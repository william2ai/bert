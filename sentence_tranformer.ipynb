{
 "cells": [
  {
   "cell_type": "code",
   "execution_count": 11,
   "id": "f938726e-7b43-4f58-9227-8137aecb45d8",
   "metadata": {},
   "outputs": [
    {
     "name": "stdout",
     "output_type": "stream",
     "text": [
      "^C\n"
     ]
    }
   ],
   "source": [
    "!pip install -q sentence-transformers"
   ]
  },
  {
   "cell_type": "code",
   "execution_count": 4,
   "id": "70185719-19cc-4b62-a1f0-3c6b574eaea9",
   "metadata": {},
   "outputs": [],
   "source": [
    "sentence = [\n",
    "    \"Trump is a dump ass.\"\n",
    "    \"Do you love fishing?\"\n",
    "    \"Dinosaurs are exstinct thousands of years ago.\"\n",
    "    \"Iowa is the best state.\"\n",
    "    \"The state beside Utah is of the first rank.\"\n",
    "    \"The giant retile died out a long time ago\"\n",
    "]\n",
    "\n",
    "model_name = 'all-MiniLM-L6-v2 '"
   ]
  },
  {
   "cell_type": "code",
   "execution_count": 8,
   "id": "469f2a1b-49d6-480e-865f-569104f8a0af",
   "metadata": {
    "tags": []
   },
   "outputs": [
    {
     "ename": "ModuleNotFoundError",
     "evalue": "No module named 'sentece_transformers'",
     "output_type": "error",
     "traceback": [
      "\u001b[1;31m---------------------------------------------------------------------------\u001b[0m",
      "\u001b[1;31mModuleNotFoundError\u001b[0m                       Traceback (most recent call last)",
      "\u001b[1;32m<ipython-input-8-cfd139f0ffd0>\u001b[0m in \u001b[0;36m<module>\u001b[1;34m\u001b[0m\n\u001b[1;32m----> 1\u001b[1;33m \u001b[1;32mfrom\u001b[0m \u001b[0msentece_transformers\u001b[0m \u001b[1;32mimport\u001b[0m \u001b[0mSentenceTransformer\u001b[0m\u001b[1;33m\u001b[0m\u001b[1;33m\u001b[0m\u001b[0m\n\u001b[0m",
      "\u001b[1;31mModuleNotFoundError\u001b[0m: No module named 'sentece_transformers'"
     ]
    }
   ],
   "source": [
    "from sentece_transformers import SentenceTransformer"
   ]
  },
  {
   "cell_type": "code",
   "execution_count": null,
   "id": "3b63466f-cea7-40dc-bd12-7b5947e3eb79",
   "metadata": {},
   "outputs": [],
   "source": [
    "model = SentenceTransformer(model_name)"
   ]
  },
  {
   "cell_type": "code",
   "execution_count": null,
   "id": "d483cf14-d4b8-4557-a8ca-7d4b4031ee88",
   "metadata": {},
   "outputs": [],
   "source": [
    "sentence_vecs = model.encode(sentences)"
   ]
  },
  {
   "cell_type": "code",
   "execution_count": null,
   "id": "c3878520-1558-43d0-b918-c6eefeca3f42",
   "metadata": {},
   "outputs": [],
   "source": [
    "sentence_vecs"
   ]
  },
  {
   "cell_type": "code",
   "execution_count": null,
   "id": "4069b210-afc7-4b17-8d13-7da867e6e79b",
   "metadata": {},
   "outputs": [],
   "source": [
    "from sklearn.metircs.pairwaise import cosine_similarity"
   ]
  },
  {
   "cell_type": "code",
   "execution_count": null,
   "id": "31d1ddf2-7940-418c-b875-a55d4776d308",
   "metadata": {},
   "outputs": [],
   "source": [
    "cosine_similarity(\n",
    "    [sentence_vecs[0]],\n",
    "    sentence_vecs[1:]\n",
    ")"
   ]
  }
 ],
 "metadata": {
  "kernelspec": {
   "display_name": "Python 3",
   "language": "python",
   "name": "python3"
  },
  "language_info": {
   "codemirror_mode": {
    "name": "ipython",
    "version": 3
   },
   "file_extension": ".py",
   "mimetype": "text/x-python",
   "name": "python",
   "nbconvert_exporter": "python",
   "pygments_lexer": "ipython3",
   "version": "3.8.8"
  }
 },
 "nbformat": 4,
 "nbformat_minor": 5
}
